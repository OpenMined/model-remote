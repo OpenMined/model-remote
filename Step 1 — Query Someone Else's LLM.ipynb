{
 "cells": [
  {
   "cell_type": "code",
   "execution_count": 1,
   "id": "a7791faa-5f2d-413f-a78b-a5282e2510c0",
   "metadata": {},
   "outputs": [],
   "source": [
    "from llama_remote import client"
   ]
  },
  {
   "cell_type": "code",
   "execution_count": 2,
   "id": "d6099959-a9a4-4cc6-a292-7ae6a34aa581",
   "metadata": {},
   "outputs": [
    {
     "name": "stderr",
     "output_type": "stream",
     "text": [
      "\u001b[32m2025-03-16 22:36:00.961\u001b[0m | \u001b[1mINFO    \u001b[0m | \u001b[36msyft_rpc_client\u001b[0m:\u001b[36m__init__\u001b[0m:\u001b[36m46\u001b[0m - \u001b[1m🔑 Connected as: andrew@openmined.org\u001b[0m\n"
     ]
    },
    {
     "data": {
      "text/html": [
       "<style type=\"text/css\">\n",
       "#T_f99a1 th {\n",
       "  background-color: #f2f2f2;\n",
       "  color: black;\n",
       "  font-weight: bold;\n",
       "  text-align: left;\n",
       "  border: 1px solid #ddd;\n",
       "  padding: 8px;\n",
       "}\n",
       "#T_f99a1 caption {\n",
       "  font-size: 1.2em;\n",
       "  font-weight: bold;\n",
       "  padding: 10px;\n",
       "  text-align: left;\n",
       "}\n",
       "#T_f99a1_row0_col0, #T_f99a1_row0_col1, #T_f99a1_row1_col0, #T_f99a1_row1_col1, #T_f99a1_row2_col0, #T_f99a1_row2_col1, #T_f99a1_row3_col0, #T_f99a1_row3_col1 {\n",
       "  text-align: left;\n",
       "  border: 1px solid #ddd;\n",
       "  padding: 8px;\n",
       "}\n",
       "</style>\n",
       "<table id=\"T_f99a1\">\n",
       "  <caption>Available Ollama Datasites (4)</caption>\n",
       "  <thead>\n",
       "    <tr>\n",
       "      <th class=\"blank level0\" >&nbsp;</th>\n",
       "      <th id=\"T_f99a1_level0_col0\" class=\"col_heading level0 col0\" >Datasite</th>\n",
       "      <th id=\"T_f99a1_level0_col1\" class=\"col_heading level0 col1\" >Status</th>\n",
       "    </tr>\n",
       "  </thead>\n",
       "  <tbody>\n",
       "    <tr>\n",
       "      <th id=\"T_f99a1_level0_row0\" class=\"row_heading level0 row0\" >0</th>\n",
       "      <td id=\"T_f99a1_row0_col0\" class=\"data row0 col0\" >alice@openmined.org</td>\n",
       "      <td id=\"T_f99a1_row0_col1\" class=\"data row0 col1\" >Available</td>\n",
       "    </tr>\n",
       "    <tr>\n",
       "      <th id=\"T_f99a1_level0_row1\" class=\"row_heading level0 row1\" >1</th>\n",
       "      <td id=\"T_f99a1_row1_col0\" class=\"data row1 col0\" >amber@openmined.org</td>\n",
       "      <td id=\"T_f99a1_row1_col1\" class=\"data row1 col1\" >Available</td>\n",
       "    </tr>\n",
       "    <tr>\n",
       "      <th id=\"T_f99a1_level0_row2\" class=\"row_heading level0 row2\" >2</th>\n",
       "      <td id=\"T_f99a1_row2_col0\" class=\"data row2 col0\" >andrew@openmined.org</td>\n",
       "      <td id=\"T_f99a1_row2_col1\" class=\"data row2 col1\" >Available</td>\n",
       "    </tr>\n",
       "    <tr>\n",
       "      <th id=\"T_f99a1_level0_row3\" class=\"row_heading level0 row3\" >3</th>\n",
       "      <td id=\"T_f99a1_row3_col0\" class=\"data row3 col0\" >bob@openmined.org</td>\n",
       "      <td id=\"T_f99a1_row3_col1\" class=\"data row3 col1\" >Available</td>\n",
       "    </tr>\n",
       "  </tbody>\n",
       "</table>\n"
      ],
      "text/plain": [
       "DatasiteCollection(4 datasites: alice@openmined.org, amber@openmined.org, andrew@openmined.org, bob@openmined.org)"
      ]
     },
     "execution_count": 2,
     "metadata": {},
     "output_type": "execute_result"
    }
   ],
   "source": [
    "# client = client(\"~/.syft_bob_config.json\")\n",
    "client = client()\n",
    "client.datasites"
   ]
  },
  {
   "cell_type": "code",
   "execution_count": 5,
   "id": "b835d17f-4c1a-4a34-af37-5d0ddcde1f6d",
   "metadata": {},
   "outputs": [],
   "source": [
    "amber = client.datasites['amber@openmined.org']"
   ]
  },
  {
   "cell_type": "code",
   "execution_count": 6,
   "id": "a4275b8b-d01b-4008-9336-0705ed1ef4fc",
   "metadata": {},
   "outputs": [
    {
     "name": "stderr",
     "output_type": "stream",
     "text": [
      "\u001b[32m2025-03-16 22:36:29.154\u001b[0m | \u001b[1mINFO    \u001b[0m | \u001b[36mllama_remote\u001b[0m:\u001b[36mlist_accessible_files\u001b[0m:\u001b[36m539\u001b[0m - \u001b[1mRequesting list of accessible files from amber@openmined.org\u001b[0m\n",
      "\u001b[32m2025-03-16 22:36:29.155\u001b[0m | \u001b[1mINFO    \u001b[0m | \u001b[36msyft_rpc_client\u001b[0m:\u001b[36msend_request\u001b[0m:\u001b[36m167\u001b[0m - \u001b[1m📤 SENDING: Request to amber@openmined.org\u001b[0m\n",
      "\u001b[32m2025-03-16 22:36:40.509\u001b[0m | \u001b[1mINFO    \u001b[0m | \u001b[36msyft_rpc_client\u001b[0m:\u001b[36msend_request\u001b[0m:\u001b[36m182\u001b[0m - \u001b[1m📥 RECEIVED: Response from amber@openmined.org. Time: 11.35s\u001b[0m\n"
     ]
    },
    {
     "data": {
      "text/html": [
       "<div><em>No accessible files found</em></div>"
      ],
      "text/plain": [
       "[]"
      ]
     },
     "execution_count": 6,
     "metadata": {},
     "output_type": "execute_result"
    }
   ],
   "source": [
    "amber.files"
   ]
  },
  {
   "cell_type": "code",
   "execution_count": 27,
   "id": "0b4e5c76-d8ef-4088-98d0-fcc8b2e1760c",
   "metadata": {},
   "outputs": [],
   "source": [
    "my_files = ['/Users/atrask/Desktop/SyftBoxBob/datasites/bob@openmined.org/company_data/test_data.txt', '/Users/atrask/Desktop/SyftBoxBob/datasites/bob@openmined.org/company_data/financial_metrics.csv', '/Users/atrask/Desktop/SyftBoxBob/datasites/bob@openmined.org/company_data/strategic_plan.txt']"
   ]
  },
  {
   "cell_type": "code",
   "execution_count": 28,
   "id": "804469c1-ca4f-4578-9706-18fe5ea8e6ad",
   "metadata": {},
   "outputs": [
    {
     "name": "stderr",
     "output_type": "stream",
     "text": [
      "\u001b[32m2025-03-16 22:32:24.445\u001b[0m | \u001b[1mINFO    \u001b[0m | \u001b[36msyft_rpc_client\u001b[0m:\u001b[36msend_request\u001b[0m:\u001b[36m167\u001b[0m - \u001b[1m📤 SENDING: Request to bob@openmined.org\u001b[0m\n",
      "\u001b[32m2025-03-16 22:32:36.970\u001b[0m | \u001b[1mINFO    \u001b[0m | \u001b[36msyft_rpc_client\u001b[0m:\u001b[36msend_request\u001b[0m:\u001b[36m182\u001b[0m - \u001b[1m📥 RECEIVED: Response from bob@openmined.org. Time: 12.52s\u001b[0m\n"
     ]
    }
   ],
   "source": [
    "response = bob2alice.generate(\n",
    "    model=\"llama3.2:latest\",\n",
    "    prompt=\"What is the secret number?\",\n",
    "    file_paths=my_files  # Include this demo file in context\n",
    ")"
   ]
  },
  {
   "cell_type": "code",
   "execution_count": 29,
   "id": "c6ced030-e5dc-4ad7-b6e3-1d06156345ee",
   "metadata": {},
   "outputs": [
    {
     "data": {
      "text/plain": [
       "'The secret number is 23.'"
      ]
     },
     "execution_count": 29,
     "metadata": {},
     "output_type": "execute_result"
    }
   ],
   "source": [
    "response.response"
   ]
  },
  {
   "cell_type": "code",
   "execution_count": null,
   "id": "e5bffe69-158e-4970-a143-d0159e6725f0",
   "metadata": {},
   "outputs": [],
   "source": []
  },
  {
   "cell_type": "code",
   "execution_count": null,
   "id": "ef8e67dc-4e06-42ad-ab3e-4d61a0bd9600",
   "metadata": {},
   "outputs": [],
   "source": []
  },
  {
   "cell_type": "code",
   "execution_count": null,
   "id": "0520c265-d43a-49bc-a799-29c5d83ed917",
   "metadata": {},
   "outputs": [],
   "source": []
  }
 ],
 "metadata": {
  "kernelspec": {
   "display_name": "Python 3 (ipykernel)",
   "language": "python",
   "name": "python3"
  },
  "language_info": {
   "codemirror_mode": {
    "name": "ipython",
    "version": 3
   },
   "file_extension": ".py",
   "mimetype": "text/x-python",
   "name": "python",
   "nbconvert_exporter": "python",
   "pygments_lexer": "ipython3",
   "version": "3.13.1"
  }
 },
 "nbformat": 4,
 "nbformat_minor": 5
}
