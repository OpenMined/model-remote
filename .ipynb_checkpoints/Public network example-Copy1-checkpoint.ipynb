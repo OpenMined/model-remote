{
 "cells": [
  {
   "cell_type": "code",
   "execution_count": 1,
   "id": "a7791faa-5f2d-413f-a78b-a5282e2510c0",
   "metadata": {},
   "outputs": [],
   "source": [
    "from llama_remote import client"
   ]
  },
  {
   "cell_type": "code",
   "execution_count": 2,
   "id": "d6099959-a9a4-4cc6-a292-7ae6a34aa581",
   "metadata": {},
   "outputs": [
    {
     "name": "stderr",
     "output_type": "stream",
     "text": [
      "\u001b[32m2025-03-16 20:16:26.204\u001b[0m | \u001b[1mINFO    \u001b[0m | \u001b[36msyft_rpc_client\u001b[0m:\u001b[36m__init__\u001b[0m:\u001b[36m55\u001b[0m - \u001b[1m🔑 Connected as: andrew@openmined.org\u001b[0m\n"
     ]
    }
   ],
   "source": [
    "local_client = client()"
   ]
  },
  {
   "cell_type": "code",
   "execution_count": 3,
   "id": "90af4216-8454-4b25-adba-6753513abfe7",
   "metadata": {},
   "outputs": [
    {
     "data": {
      "text/html": [
       "<style type=\"text/css\">\n",
       "#T_ea0ae th {\n",
       "  background-color: #f2f2f2;\n",
       "  color: black;\n",
       "  font-weight: bold;\n",
       "  text-align: left;\n",
       "  border: 1px solid #ddd;\n",
       "  padding: 8px;\n",
       "}\n",
       "#T_ea0ae caption {\n",
       "  font-size: 1.2em;\n",
       "  font-weight: bold;\n",
       "  padding: 10px;\n",
       "  text-align: left;\n",
       "}\n",
       "#T_ea0ae_row0_col0, #T_ea0ae_row0_col1, #T_ea0ae_row1_col0, #T_ea0ae_row1_col1, #T_ea0ae_row2_col0, #T_ea0ae_row2_col1, #T_ea0ae_row3_col0, #T_ea0ae_row3_col1 {\n",
       "  text-align: left;\n",
       "  border: 1px solid #ddd;\n",
       "  padding: 8px;\n",
       "}\n",
       "</style>\n",
       "<table id=\"T_ea0ae\">\n",
       "  <caption>Available Ollama Datasites (4)</caption>\n",
       "  <thead>\n",
       "    <tr>\n",
       "      <th class=\"blank level0\" >&nbsp;</th>\n",
       "      <th id=\"T_ea0ae_level0_col0\" class=\"col_heading level0 col0\" >Datasite</th>\n",
       "      <th id=\"T_ea0ae_level0_col1\" class=\"col_heading level0 col1\" >Status</th>\n",
       "    </tr>\n",
       "  </thead>\n",
       "  <tbody>\n",
       "    <tr>\n",
       "      <th id=\"T_ea0ae_level0_row0\" class=\"row_heading level0 row0\" >0</th>\n",
       "      <td id=\"T_ea0ae_row0_col0\" class=\"data row0 col0\" >alice@openmined.org</td>\n",
       "      <td id=\"T_ea0ae_row0_col1\" class=\"data row0 col1\" >Available</td>\n",
       "    </tr>\n",
       "    <tr>\n",
       "      <th id=\"T_ea0ae_level0_row1\" class=\"row_heading level0 row1\" >1</th>\n",
       "      <td id=\"T_ea0ae_row1_col0\" class=\"data row1 col0\" >amber@openmined.org</td>\n",
       "      <td id=\"T_ea0ae_row1_col1\" class=\"data row1 col1\" >Available</td>\n",
       "    </tr>\n",
       "    <tr>\n",
       "      <th id=\"T_ea0ae_level0_row2\" class=\"row_heading level0 row2\" >2</th>\n",
       "      <td id=\"T_ea0ae_row2_col0\" class=\"data row2 col0\" >andrew@openmined.org</td>\n",
       "      <td id=\"T_ea0ae_row2_col1\" class=\"data row2 col1\" >Available</td>\n",
       "    </tr>\n",
       "    <tr>\n",
       "      <th id=\"T_ea0ae_level0_row3\" class=\"row_heading level0 row3\" >3</th>\n",
       "      <td id=\"T_ea0ae_row3_col0\" class=\"data row3 col0\" >bob@openmined.org</td>\n",
       "      <td id=\"T_ea0ae_row3_col1\" class=\"data row3 col1\" >Available</td>\n",
       "    </tr>\n",
       "  </tbody>\n",
       "</table>\n"
      ],
      "text/plain": [
       "DatasiteCollection(4 datasites: alice@openmined.org, amber@openmined.org, andrew@openmined.org, bob@openmined.org)"
      ]
     },
     "execution_count": 3,
     "metadata": {},
     "output_type": "execute_result"
    }
   ],
   "source": [
    "local_client.datasites"
   ]
  },
  {
   "cell_type": "code",
   "execution_count": 4,
   "id": "a4275b8b-d01b-4008-9336-0705ed1ef4fc",
   "metadata": {},
   "outputs": [],
   "source": [
    "remote_client = local_client.datasites['amber@openmined.org']"
   ]
  },
  {
   "cell_type": "code",
   "execution_count": 10,
   "id": "e8039a54-c7fc-4aee-a21a-fb33f7a48b0f",
   "metadata": {},
   "outputs": [
    {
     "name": "stderr",
     "output_type": "stream",
     "text": [
      "\u001b[32m2025-03-16 20:13:19.434\u001b[0m | \u001b[1mINFO    \u001b[0m | \u001b[36mllama_remote\u001b[0m:\u001b[36mlist_accessible_files\u001b[0m:\u001b[36m531\u001b[0m - \u001b[1mRequesting list of accessible files from amber@openmined.org\u001b[0m\n",
      "\u001b[32m2025-03-16 20:13:19.437\u001b[0m | \u001b[1mINFO    \u001b[0m | \u001b[36msyft_rpc_client\u001b[0m:\u001b[36msend_request\u001b[0m:\u001b[36m176\u001b[0m - \u001b[1m📤 SENDING: Request to amber@openmined.org\u001b[0m\n",
      "\u001b[32m2025-03-16 20:13:31.668\u001b[0m | \u001b[1mINFO    \u001b[0m | \u001b[36msyft_rpc_client\u001b[0m:\u001b[36msend_request\u001b[0m:\u001b[36m191\u001b[0m - \u001b[1m📥 RECEIVED: Response from amber@openmined.org. Time: 12.23s\u001b[0m\n"
     ]
    },
    {
     "data": {
      "text/html": [
       "<div><em>No accessible files found</em></div>"
      ],
      "text/plain": [
       "[]"
      ]
     },
     "execution_count": 10,
     "metadata": {},
     "output_type": "execute_result"
    }
   ],
   "source": [
    "remote_client.files"
   ]
  },
  {
   "cell_type": "code",
   "execution_count": 16,
   "id": "0b4e5c76-d8ef-4088-98d0-fcc8b2e1760c",
   "metadata": {},
   "outputs": [
    {
     "name": "stderr",
     "output_type": "stream",
     "text": [
      "\u001b[32m2025-03-16 20:14:54.516\u001b[0m | \u001b[1mINFO    \u001b[0m | \u001b[36msyft_rpc_client\u001b[0m:\u001b[36msend_request\u001b[0m:\u001b[36m176\u001b[0m - \u001b[1m📤 SENDING: Request to amber@openmined.org\u001b[0m\n",
      "\u001b[32m2025-03-16 20:15:05.249\u001b[0m | \u001b[1mINFO    \u001b[0m | \u001b[36msyft_rpc_client\u001b[0m:\u001b[36msend_request\u001b[0m:\u001b[36m191\u001b[0m - \u001b[1m📥 RECEIVED: Response from amber@openmined.org. Time: 10.73s\u001b[0m\n"
     ]
    },
    {
     "data": {
      "text/plain": [
       "['llama3.2:latest']"
      ]
     },
     "execution_count": 16,
     "metadata": {},
     "output_type": "execute_result"
    }
   ],
   "source": [
    "remote_client.models"
   ]
  },
  {
   "cell_type": "code",
   "execution_count": 11,
   "id": "4edbe3e1-fd8d-458c-ae0f-2dcff94e235f",
   "metadata": {},
   "outputs": [],
   "source": [
    "# my_files = ['/Users/atrask/SyftBox/datasites/liamtrask@gmail.com/test_data.txt']"
   ]
  },
  {
   "cell_type": "code",
   "execution_count": 5,
   "id": "804469c1-ca4f-4578-9706-18fe5ea8e6ad",
   "metadata": {},
   "outputs": [
    {
     "name": "stderr",
     "output_type": "stream",
     "text": [
      "\u001b[32m2025-03-16 20:16:31.179\u001b[0m | \u001b[1mINFO    \u001b[0m | \u001b[36msyft_rpc_client\u001b[0m:\u001b[36msend_request\u001b[0m:\u001b[36m176\u001b[0m - \u001b[1m📤 SENDING: Request to amber@openmined.org\u001b[0m\n",
      "\u001b[32m2025-03-16 20:16:59.909\u001b[0m | \u001b[1mINFO    \u001b[0m | \u001b[36msyft_rpc_client\u001b[0m:\u001b[36msend_request\u001b[0m:\u001b[36m191\u001b[0m - \u001b[1m📥 RECEIVED: Response from amber@openmined.org. Time: 28.73s\u001b[0m\n"
     ]
    }
   ],
   "source": [
    "response = remote_client.generate(\n",
    "    model=\"llama3.2:latest\",\n",
    "    prompt=\"What is the secret number?\",\n",
    "    # file_paths=my_files  # Include this demo file in context\n",
    ")"
   ]
  },
  {
   "cell_type": "code",
   "execution_count": 6,
   "id": "c6ced030-e5dc-4ad7-b6e3-1d06156345ee",
   "metadata": {},
   "outputs": [
    {
     "data": {
      "text/plain": [
       "'I\\'m not aware of any specific \"secret number\" that is widely known or understood. Could you please provide more context or information about what you\\'re referring to? Is it a mathematical constant, a numerical code, or something else entirely?\\n\\nIf you\\'re thinking of a popular culture reference, I\\'d be happy to try and help you figure out what you might be thinking of. Alternatively, if you have any other questions or topics you\\'d like to discuss, feel free to ask!'"
      ]
     },
     "execution_count": 6,
     "metadata": {},
     "output_type": "execute_result"
    }
   ],
   "source": [
    "response.response"
   ]
  },
  {
   "cell_type": "code",
   "execution_count": null,
   "id": "e5bffe69-158e-4970-a143-d0159e6725f0",
   "metadata": {},
   "outputs": [],
   "source": []
  },
  {
   "cell_type": "code",
   "execution_count": null,
   "id": "ef8e67dc-4e06-42ad-ab3e-4d61a0bd9600",
   "metadata": {},
   "outputs": [],
   "source": []
  },
  {
   "cell_type": "code",
   "execution_count": null,
   "id": "0520c265-d43a-49bc-a799-29c5d83ed917",
   "metadata": {},
   "outputs": [],
   "source": []
  }
 ],
 "metadata": {
  "kernelspec": {
   "display_name": "Python 3 (ipykernel)",
   "language": "python",
   "name": "python3"
  },
  "language_info": {
   "codemirror_mode": {
    "name": "ipython",
    "version": 3
   },
   "file_extension": ".py",
   "mimetype": "text/x-python",
   "name": "python",
   "nbconvert_exporter": "python",
   "pygments_lexer": "ipython3",
   "version": "3.13.1"
  }
 },
 "nbformat": 4,
 "nbformat_minor": 5
}
