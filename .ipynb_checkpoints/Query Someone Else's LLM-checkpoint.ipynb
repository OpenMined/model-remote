{
 "cells": [
  {
   "cell_type": "code",
   "execution_count": null,
   "id": "9e406267-4deb-4ace-a716-361835acfc35",
   "metadata": {},
   "outputs": [],
   "source": []
  },
  {
   "cell_type": "code",
   "execution_count": null,
   "id": "2a2c5672-2535-4f28-9062-9a0a27147816",
   "metadata": {},
   "outputs": [],
   "source": []
  },
  {
   "cell_type": "code",
   "execution_count": null,
   "id": "daef658a-5748-44d0-9c27-286897b2efe7",
   "metadata": {},
   "outputs": [],
   "source": []
  },
  {
   "cell_type": "code",
   "execution_count": null,
   "id": "fb644818-43ee-42f4-9539-77d32d6c43e4",
   "metadata": {},
   "outputs": [],
   "source": []
  },
  {
   "cell_type": "code",
   "execution_count": null,
   "id": "e9959618-b945-44c3-b62e-67c50dc2c811",
   "metadata": {},
   "outputs": [],
   "source": []
  },
  {
   "cell_type": "code",
   "execution_count": null,
   "id": "ce6c87d9-4abd-422f-aa99-3e840105934a",
   "metadata": {},
   "outputs": [],
   "source": []
  },
  {
   "cell_type": "code",
   "execution_count": null,
   "id": "153daa94-1753-4da2-9cf2-546b2b120752",
   "metadata": {},
   "outputs": [],
   "source": []
  },
  {
   "cell_type": "code",
   "execution_count": null,
   "id": "7e6d3857-684b-4b57-83f0-9245ba7a9fb5",
   "metadata": {},
   "outputs": [],
   "source": []
  },
  {
   "cell_type": "code",
   "execution_count": null,
   "id": "6deefe59-83d8-42da-ae47-2d4d16c72610",
   "metadata": {},
   "outputs": [],
   "source": []
  },
  {
   "cell_type": "code",
   "execution_count": null,
   "id": "b0552eeb-31f2-4610-a750-044b0dbecd02",
   "metadata": {},
   "outputs": [],
   "source": []
  },
  {
   "cell_type": "code",
   "execution_count": null,
   "id": "63e6dbe7-7138-4406-84b9-3f2b7ebbd79a",
   "metadata": {},
   "outputs": [],
   "source": []
  },
  {
   "cell_type": "code",
   "execution_count": null,
   "id": "175c388c-2dd1-483c-9608-b4f228a47ad6",
   "metadata": {},
   "outputs": [],
   "source": []
  },
  {
   "cell_type": "code",
   "execution_count": null,
   "id": "af23b18e-44e3-43d5-be3e-97b368d3071b",
   "metadata": {},
   "outputs": [],
   "source": []
  },
  {
   "cell_type": "code",
   "execution_count": null,
   "id": "e04d0257-dc74-4ea1-ba12-421ce4b67bd7",
   "metadata": {},
   "outputs": [],
   "source": []
  },
  {
   "cell_type": "code",
   "execution_count": null,
   "id": "73490c95-a0e9-4367-87ac-d9942f73b9dc",
   "metadata": {},
   "outputs": [],
   "source": []
  },
  {
   "cell_type": "code",
   "execution_count": null,
   "id": "9a55103e-640f-42b5-a848-70fddf095f99",
   "metadata": {},
   "outputs": [],
   "source": []
  },
  {
   "cell_type": "code",
   "execution_count": null,
   "id": "675bb8a3-40a8-4ba5-91ed-2e3179d38b4b",
   "metadata": {},
   "outputs": [],
   "source": []
  },
  {
   "cell_type": "code",
   "execution_count": null,
   "id": "75cb429a-df95-442a-aa70-017db1757231",
   "metadata": {},
   "outputs": [],
   "source": []
  },
  {
   "cell_type": "code",
   "execution_count": null,
   "id": "a7791faa-5f2d-413f-a78b-a5282e2510c0",
   "metadata": {},
   "outputs": [],
   "source": [
    "from llama_remote import client"
   ]
  },
  {
   "cell_type": "code",
   "execution_count": null,
   "id": "d6099959-a9a4-4cc6-a292-7ae6a34aa581",
   "metadata": {},
   "outputs": [],
   "source": [
    "# client = client(\"~/.syft_bob_config.json\")\n",
    "client = client()\n",
    "client.datasites"
   ]
  },
  {
   "cell_type": "code",
   "execution_count": null,
   "id": "b835d17f-4c1a-4a34-af37-5d0ddcde1f6d",
   "metadata": {},
   "outputs": [],
   "source": [
    "amber = client.datasites['amber@openmined.org']"
   ]
  },
  {
   "cell_type": "code",
   "execution_count": null,
   "id": "a4275b8b-d01b-4008-9336-0705ed1ef4fc",
   "metadata": {},
   "outputs": [],
   "source": [
    "amber.files"
   ]
  },
  {
   "cell_type": "code",
   "execution_count": null,
   "id": "0b4e5c76-d8ef-4088-98d0-fcc8b2e1760c",
   "metadata": {},
   "outputs": [],
   "source": [
    "my_files = ['/Users/amberleightrask/Desktop/SyftBox/datasites/amber@openmined.org/secret_letter.txt', '/Users/amberleightrask/Desktop/SyftBox/datasites/amber@openmined.org/public/secret_number.txt']"
   ]
  },
  {
   "cell_type": "code",
   "execution_count": null,
   "id": "804469c1-ca4f-4578-9706-18fe5ea8e6ad",
   "metadata": {},
   "outputs": [],
   "source": [
    "response = amber.generate(\n",
    "    model=\"llama3.2:latest\",\n",
    "    prompt=\"What is the secret number?\",\n",
    "    # file_paths=my_files  # Include this demo file in context\n",
    ")"
   ]
  },
  {
   "cell_type": "code",
   "execution_count": null,
   "id": "262374ac-6850-4eb5-b027-6b4e89fcaaee",
   "metadata": {},
   "outputs": [],
   "source": [
    "response.response"
   ]
  },
  {
   "cell_type": "code",
   "execution_count": null,
   "id": "52f2c830-4abf-4341-adf8-fa1b6bea270a",
   "metadata": {},
   "outputs": [],
   "source": [
    "response = amber.generate(\n",
    "    model=\"llama3.2:latest\",\n",
    "    prompt=\"What is the secret letter?\",\n",
    "    # file_paths=my_files  # Include this demo file in context\n",
    ")"
   ]
  },
  {
   "cell_type": "code",
   "execution_count": null,
   "id": "c6ced030-e5dc-4ad7-b6e3-1d06156345ee",
   "metadata": {},
   "outputs": [],
   "source": [
    "response.response"
   ]
  },
  {
   "cell_type": "code",
   "execution_count": null,
   "id": "e5bffe69-158e-4970-a143-d0159e6725f0",
   "metadata": {},
   "outputs": [],
   "source": []
  },
  {
   "cell_type": "code",
   "execution_count": null,
   "id": "ef8e67dc-4e06-42ad-ab3e-4d61a0bd9600",
   "metadata": {},
   "outputs": [],
   "source": []
  },
  {
   "cell_type": "code",
   "execution_count": null,
   "id": "0520c265-d43a-49bc-a799-29c5d83ed917",
   "metadata": {},
   "outputs": [],
   "source": []
  }
 ],
 "metadata": {
  "kernelspec": {
   "display_name": "Python 3 (ipykernel)",
   "language": "python",
   "name": "python3"
  },
  "language_info": {
   "codemirror_mode": {
    "name": "ipython",
    "version": 3
   },
   "file_extension": ".py",
   "mimetype": "text/x-python",
   "name": "python",
   "nbconvert_exporter": "python",
   "pygments_lexer": "ipython3",
   "version": "3.13.1"
  }
 },
 "nbformat": 4,
 "nbformat_minor": 5
}
